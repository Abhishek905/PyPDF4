{
 "cells": [
  {
   "cell_type": "code",
   "execution_count": 33,
   "metadata": {},
   "outputs": [
    {
     "name": "stdout",
     "output_type": "stream",
     "text": [
      "Requirement already satisfied: PyPDF4 in c:\\programdata\\anaconda3\\lib\\site-packages (1.27.0)\n"
     ]
    }
   ],
   "source": [
    "!pip install PyPDF4"
   ]
  },
  {
   "cell_type": "code",
   "execution_count": 35,
   "metadata": {},
   "outputs": [
    {
     "name": "stdout",
     "output_type": "stream",
     "text": [
      "Invoice\n",
      "Payment is due within 30 days from date of invoice. Late payment is subject to fees of 5% per month.\n",
      "Thanks for choosing \n",
      "DEMO - Sliced Invoices\n",
      " | \n",
      "admin@slicedinvoices.com\n",
      "Page 1/1\n",
      "From:\n",
      "DEMO - Sliced Invoices\n",
      "Suite 5A-1204\n",
      "123 Somewhere Street\n",
      "Your City AZ 12345\n",
      "admin@slicedinvoices.com\n",
      "Invoice Number\n",
      "INV-3337\n",
      "Order Number\n",
      "12345\n",
      "Invoice Date\n",
      "January 25, 2016\n",
      "Due Date\n",
      "January 31, 2016\n",
      "Total Due\n",
      "$93.50\n",
      "To:\n",
      "Test Business\n",
      "123 Somewhere St\n",
      "Melbourne, VIC 3000\n",
      "test@test.com\n",
      "Hrs/Qty\n",
      "Service\n",
      "Rate/Price\n",
      "Adjust\n",
      "Sub Total\n",
      "1.00\n",
      "Web Design\n",
      "This is a sample description...\n",
      "$85.00\n",
      "0.00%\n",
      "$85.00\n",
      "Sub Total\n",
      "$85.00\n",
      "Tax\n",
      "$8.50\n",
      "Total\n",
      "$93.50\n",
      "ANZ Bank\n",
      "ACC # 1234 1234\n",
      "BSB # 4321 432\n",
      "Paid\n",
      "\n"
     ]
    }
   ],
   "source": [
    "import PyPDF4\n",
    "\n",
    "FILE_PATH =\"E:/documents/invoice.pdf\"\n",
    "\n",
    "with open(FILE_PATH, mode='rb') as f: \n",
    "    reader = PyPDF4.PdfFileReader(f)\n",
    "    page = reader.getPage(0)\n",
    "    print(page.extractText())\n",
    "    text = page.extractText()"
   ]
  },
  {
   "cell_type": "code",
   "execution_count": 36,
   "metadata": {},
   "outputs": [
    {
     "data": {
      "text/plain": [
       "'Invoice\\nPayment is due within 30 days from date of invoice. Late payment is subject to fees of 5% per month.\\nThanks for choosing \\nDEMO - Sliced Invoices\\n | \\nadmin@slicedinvoices.com\\nPage 1/1\\nFrom:\\nDEMO - Sliced Invoices\\nSuite 5A-1204\\n123 Somewhere Street\\nYour City AZ 12345\\nadmin@slicedinvoices.com\\nInvoice Number\\nINV-3337\\nOrder Number\\n12345\\nInvoice Date\\nJanuary 25, 2016\\nDue Date\\nJanuary 31, 2016\\nTotal Due\\n$93.50\\nTo:\\nTest Business\\n123 Somewhere St\\nMelbourne, VIC 3000\\ntest@test.com\\nHrs/Qty\\nService\\nRate/Price\\nAdjust\\nSub Total\\n1.00\\nWeb Design\\nThis is a sample description...\\n$85.00\\n0.00%\\n$85.00\\nSub Total\\n$85.00\\nTax\\n$8.50\\nTotal\\n$93.50\\nANZ Bank\\nACC # 1234 1234\\nBSB # 4321 432\\nPaid\\n'"
      ]
     },
     "execution_count": 36,
     "metadata": {},
     "output_type": "execute_result"
    }
   ],
   "source": [
    "text"
   ]
  },
  {
   "cell_type": "code",
   "execution_count": 38,
   "metadata": {},
   "outputs": [
    {
     "name": "stdout",
     "output_type": "stream",
     "text": [
      "['$93.50', '$85.00', '$85.00', '$85.00', '$8.50', '$93.50']\n"
     ]
    }
   ],
   "source": [
    "#Extract all the amounts\n",
    "import re\n",
    "\n",
    "m = re.findall(\"\\$[0-9]*\\.[0-9]*\",text)\n",
    "print(m)"
   ]
  },
  {
   "cell_type": "code",
   "execution_count": 39,
   "metadata": {},
   "outputs": [
    {
     "name": "stdout",
     "output_type": "stream",
     "text": [
      "['Total Due\\n$93.50']\n",
      "['$93.50']\n"
     ]
    }
   ],
   "source": [
    "#Extract total due amount\n",
    "n = re.findall(\"Total Due\\n\\$[0-9]*\\.[0-9]*\",text)\n",
    "print(n)\n",
    "\n",
    "l = re.findall(\"\\$[0-9]*\\.[0-9]*\",n[0]) \n",
    "print(l)"
   ]
  },
  {
   "cell_type": "code",
   "execution_count": 40,
   "metadata": {},
   "outputs": [
    {
     "name": "stdout",
     "output_type": "stream",
     "text": [
      "['admin@slicedinvoices.com', 'admin@slicedinvoices.com', 'test@test.com']\n"
     ]
    }
   ],
   "source": [
    "#Extracting all the emails from the pdf\n",
    "o = re.findall(\"[a-z]+@[a-z]+\\.[a-z]+\",text)\n",
    "print(o)\n"
   ]
  },
  {
   "cell_type": "code",
   "execution_count": 42,
   "metadata": {},
   "outputs": [
    {
     "name": "stdout",
     "output_type": "stream",
     "text": [
      "['Invoice', 'Payment is due within 30 days from date of invoice. Late payment is subject to fees of 5% per month.', 'Thanks for choosing ', 'DEMO - Sliced Invoices', ' | ', 'admin@slicedinvoices.com', 'Page 1/1', 'From:', 'DEMO - Sliced Invoices', 'Suite 5A-1204', '123 Somewhere Street', 'Your City AZ 12345', 'admin@slicedinvoices.com', 'Invoice Number', 'INV-3337', 'Order Number', '12345', 'Invoice Date', 'January 25, 2016', 'Due Date', 'January 31, 2016', 'Total Due', '$93.50', 'To:', 'Test Business', '123 Somewhere St', 'Melbourne, VIC 3000', 'test@test.com', 'Hrs/Qty', 'Service', 'Rate/Price', 'Adjust', 'Sub Total', '1.00', 'Web Design', 'This is a sample description...', '$85.00', '0.00%', '$85.00', 'Sub Total', '$85.00', 'Tax', '$8.50', 'Total', '$93.50', 'ANZ Bank', 'ACC # 1234 1234', 'BSB # 4321 432', 'Paid', '']\n",
      "\n",
      "\n",
      " Invoice date:January 25, 2016\n"
     ]
    }
   ],
   "source": [
    "# If all the documents have same format, we can simply extract using line number\n",
    "res = re.split(\"\\n\", text);\n",
    "print(res)\n",
    "print(\"\\n\\n Invoice date:\" +res[18]) # Extracting invoice date"
   ]
  },
  {
   "cell_type": "code",
   "execution_count": null,
   "metadata": {},
   "outputs": [],
   "source": []
  }
 ],
 "metadata": {
  "kernelspec": {
   "display_name": "Python 3",
   "language": "python",
   "name": "python3"
  },
  "language_info": {
   "codemirror_mode": {
    "name": "ipython",
    "version": 3
   },
   "file_extension": ".py",
   "mimetype": "text/x-python",
   "name": "python",
   "nbconvert_exporter": "python",
   "pygments_lexer": "ipython3",
   "version": "3.7.3"
  }
 },
 "nbformat": 4,
 "nbformat_minor": 2
}
